{
 "cells": [
  {
   "cell_type": "markdown",
   "id": "e1a3172b",
   "metadata": {},
   "source": [
    "# Importing the data and selecting subset\n",
    "The data is first imported from the SQLite file and converted into a pandas dataframe. After that, all N/A and duplicate records are dropped, and a the dataset is subsetted randomly. "
   ]
  },
  {
   "cell_type": "code",
   "execution_count": 3,
   "id": "6daa9fd2",
   "metadata": {},
   "outputs": [],
   "source": [
    "import sqlite3\n",
    "import pandas as pd\n",
    "import numpy as np\n",
    "\n",
    "conn = sqlite3.connect(\"./data/properties_cleaned.db\")\n",
    "df = pd.read_sql_query(f\"SELECT * FROM properties\", conn)\n",
    "conn.close()\n",
    "\n",
    "#['bedrooms', 'building_form', 'city', 'commercial_space',\n",
    "# 'days_on_market', 'energy_efficient', 'energy_label', 'fixer_upper',\n",
    "# 'has_balcony', 'has_garden', 'has_heat_pump', 'has_roof_terrace',\n",
    "# 'has_solar_panels', 'latitude', 'living_area', 'longitude',\n",
    "# 'national_monument', 'object_type', 'plot_area_m2', 'postcode4',\n",
    "# 'price', 'province', 'publication_date', 'rooms', 'url', 'year_built',\n",
    "# 'has_basement', 'has_attic', 'stories'],\n",
    "\n",
    "df = df.dropna()\n",
    "df = df.drop_duplicates()\n",
    "#df = df.sample(n=10000, random_state=1)\n",
    "\n",
    "# Select subset\n",
    "df = df[['price', 'bedrooms', 'building_form', \n",
    "         #'city', \n",
    "         'commercial_space',\n",
    "         'days_on_market', \n",
    "         'energy_efficient', 'energy_label', 'fixer_upper',\n",
    "         'has_balcony', 'has_garden', 'has_heat_pump', 'has_roof_terrace',\n",
    "         'has_solar_panels', 'latitude', 'living_area', 'longitude',\n",
    "         'national_monument', \n",
    "         'object_type', 'plot_area_m2', #'postcode4',\n",
    "         'province', \n",
    "         #'publication_date', \n",
    "         'rooms', 'year_built',\n",
    "         'has_basement', 'has_attic', 'stories']]"
   ]
  },
  {
   "cell_type": "markdown",
   "id": "0b3edf65",
   "metadata": {},
   "source": [
    "# Preprocessing and analyzing the data prior to modeling\n",
    "Before the model can be created, the data has to be preprocessed and analyzed for things such as multicollinearity."
   ]
  },
  {
   "cell_type": "markdown",
   "id": "3d3c8700",
   "metadata": {},
   "source": [
    "## Converting datatypes\n",
    "All columns have to be converted to the proper datatypes to allow modeling"
   ]
  },
  {
   "cell_type": "code",
   "execution_count": 4,
   "id": "24d8cbfa",
   "metadata": {},
   "outputs": [
    {
     "name": "stdout",
     "output_type": "stream",
     "text": [
      "price                 float64\n",
      "bedrooms                int64\n",
      "building_form        category\n",
      "commercial_space         bool\n",
      "days_on_market          int64\n",
      "energy_efficient         bool\n",
      "energy_label         category\n",
      "fixer_upper              bool\n",
      "has_balcony              bool\n",
      "has_garden               bool\n",
      "has_heat_pump            bool\n",
      "has_roof_terrace         bool\n",
      "has_solar_panels         bool\n",
      "latitude              float64\n",
      "living_area             int64\n",
      "longitude             float64\n",
      "national_monument        bool\n",
      "object_type          category\n",
      "plot_area_m2            int64\n",
      "province             category\n",
      "rooms                   int64\n",
      "year_built              int64\n",
      "has_basement             bool\n",
      "has_attic                bool\n",
      "stories                 int64\n",
      "dtype: object\n"
     ]
    }
   ],
   "source": [
    "# CATEGORY\n",
    "df['building_form'] = df['building_form'].astype('category')\n",
    "df['object_type'] = df['object_type'].astype('category')\n",
    "df['province'] = df['province'].astype('category')\n",
    "\n",
    "# Ordinal category for energy_label\n",
    "df['energy_label'] = pd.Categorical(\n",
    "    df['energy_label'],\n",
    "    categories=['g', 'f', 'e', 'd', 'c', 'b', 'a'],\n",
    "    ordered=True\n",
    ")\n",
    "\n",
    "# BOOL\n",
    "df['has_balcony'] = df['has_balcony'].astype(bool)\n",
    "df['has_garden'] = df['has_garden'].astype(bool)\n",
    "df['has_heat_pump'] = df['has_heat_pump'].astype(bool)\n",
    "df['has_roof_terrace'] = df['has_roof_terrace'].astype(bool)\n",
    "df['has_solar_panels'] = df['has_solar_panels'].astype(bool)\n",
    "df['has_basement'] = df['has_basement'].astype(bool)\n",
    "df['has_attic'] = df['has_attic'].astype(bool)\n",
    "df['fixer_upper'] = df['fixer_upper'].astype(bool)\n",
    "df['energy_efficient'] = df['energy_efficient'].astype(bool)\n",
    "df['commercial_space'] = df['commercial_space'].astype(bool)\n",
    "df['national_monument'] = df['national_monument'].astype(bool)\n",
    "\n",
    "# INT\n",
    "df['rooms'] = df['rooms'].astype(int)\n",
    "df['year_built'] = df['year_built'].astype(int)\n",
    "df['living_area'] = df['living_area'].astype(int)\n",
    "df['plot_area_m2'] = df['plot_area_m2'].astype(int)\n",
    "df['days_on_market'] = df['days_on_market'].astype(int)\n",
    "df['bedrooms'] = df['bedrooms'].astype(int)\n",
    "df['stories'] = df['stories'].astype(int)\n",
    "\n",
    "# FLOAT\n",
    "df['latitude'] = df['latitude'].astype(float)\n",
    "df['longitude'] = df['longitude'].astype(float)\n",
    "df['price'] = df['price'].str.replace('€', '').str.replace('.', '').astype(float)\n",
    "\n",
    "# print data types\n",
    "print(df.dtypes)"
   ]
  },
  {
   "cell_type": "code",
   "execution_count": 5,
   "id": "d977a301",
   "metadata": {},
   "outputs": [
    {
     "name": "stdout",
     "output_type": "stream",
     "text": [
      "144662\n",
      "120601\n"
     ]
    }
   ],
   "source": [
    "print(len(df))\n",
    "\n",
    "def remove_outliers_iqr(data, column):\n",
    "    Q1 = data[column].quantile(0.25)\n",
    "    Q3 = data[column].quantile(0.75)\n",
    "    IQR = Q3 - Q1\n",
    "    lower_bound = Q1 - 1.5 * IQR\n",
    "    upper_bound = Q3 + 1.5 * IQR\n",
    "    return data[(data[column] >= lower_bound) & (data[column] <= upper_bound)]\n",
    "\n",
    "# Remove outliers for specified columns\n",
    "for col in ['bedrooms', 'living_area', 'plot_area_m2', 'rooms', 'year_built', 'stories', 'price']:\n",
    "    df = remove_outliers_iqr(df, col)\n",
    "print(len(df))"
   ]
  },
  {
   "cell_type": "markdown",
   "id": "0433db16",
   "metadata": {},
   "source": [
    "## Check for Multicolinearity\n",
    "Multicollinearity doesnt impact rf, but important for interpretting "
   ]
  },
  {
   "cell_type": "code",
   "execution_count": 6,
   "id": "65eee918",
   "metadata": {},
   "outputs": [
    {
     "name": "stdout",
     "output_type": "stream",
     "text": [
      "          feature           VIF\n",
      "0           const  17137.298515\n",
      "7           rooms      5.631439\n",
      "1        bedrooms      5.539352\n",
      "4     living_area      2.866817\n",
      "6    plot_area_m2      1.806202\n",
      "9         stories      1.564229\n",
      "5       longitude      1.239507\n",
      "8      year_built      1.118871\n",
      "3        latitude      1.117233\n",
      "2  days_on_market      1.003158\n"
     ]
    }
   ],
   "source": [
    "import pandas as pd\n",
    "from statsmodels.stats.outliers_influence import variance_inflation_factor\n",
    "from statsmodels.tools.tools import add_constant\n",
    "\n",
    "numeric_vars = df.select_dtypes(include=['number']).drop(columns='price')\n",
    "X = add_constant(numeric_vars)  # A constant is added\n",
    " \n",
    "# Compute VIF for each numeric feature\n",
    "vif_data = pd.DataFrame()\n",
    "vif_data['feature'] = X.columns\n",
    "vif_data['VIF'] = [variance_inflation_factor(X.values, i) for i in range(X.shape[1])]\n",
    "vif_data = vif_data.sort_values(by='VIF', ascending=False)  # Sort by VIF values\n",
    "\n",
    "print(vif_data)"
   ]
  },
  {
   "cell_type": "markdown",
   "id": "3923c482",
   "metadata": {},
   "source": [
    "The VIF values show signs of multicolliniearity for bedrooms and rooms. Therefore, the rooms variable will be converted to a non_bedroom_rooms variable. This will give the variable a different meaning, while still maintaining context."
   ]
  },
  {
   "cell_type": "code",
   "execution_count": 7,
   "id": "8dad6fa1",
   "metadata": {},
   "outputs": [],
   "source": [
    "if 'rooms' in df.columns:\n",
    "    df['non_bedroom_rooms'] = df['rooms'] - df['bedrooms'].astype(int)\n",
    "    df = df.drop(columns=['rooms'])"
   ]
  },
  {
   "cell_type": "markdown",
   "id": "b2e2aec0",
   "metadata": {},
   "source": [
    "# Random Forest Model\n",
    "Random Forest Model"
   ]
  },
  {
   "cell_type": "markdown",
   "id": "35fc0ba4",
   "metadata": {},
   "source": [
    "## Initial Model"
   ]
  },
  {
   "cell_type": "code",
   "execution_count": 8,
   "id": "dd9ac75d",
   "metadata": {},
   "outputs": [
    {
     "name": "stdout",
     "output_type": "stream",
     "text": [
      "MAE: 36259.33 ± 54.34\n",
      "RMSE: 50965.44 ± 111.53\n",
      "R^2: 0.857 ± 0.001\n"
     ]
    }
   ],
   "source": [
    "from sklearn.model_selection import KFold\n",
    "from sklearn.ensemble import RandomForestRegressor\n",
    "from sklearn.metrics import mean_absolute_error, mean_squared_error, r2_score\n",
    "import numpy as np\n",
    "\n",
    "y = df['price']\n",
    "X = pd.get_dummies(df.drop(columns=['price']), drop_first=True)\n",
    "\n",
    "kf = KFold(n_splits=5, shuffle=True, random_state=42)\n",
    "\n",
    "mae_scores = []\n",
    "rmse_scores = []\n",
    "r2_scores = []\n",
    "\n",
    "for train_idx, test_idx in kf.split(X):\n",
    "    X_train, X_test = X.iloc[train_idx], X.iloc[test_idx]\n",
    "    y_train, y_test = y.iloc[train_idx], y.iloc[test_idx]\n",
    "    \n",
    "    rf = RandomForestRegressor(n_estimators=100, random_state=42)\n",
    "    rf.fit(X_train, y_train)\n",
    "    y_pred = rf.predict(X_test)\n",
    "    \n",
    "    mae_scores.append(mean_absolute_error(y_test, y_pred))\n",
    "    rmse_scores.append(np.sqrt(mean_squared_error(y_test, y_pred)))\n",
    "    r2_scores.append(r2_score(y_test, y_pred))\n",
    "\n",
    "print(\"MAE: {:.2f} ± {:.2f}\".format(np.mean(mae_scores), np.std(mae_scores)))\n",
    "print(\"RMSE: {:.2f} ± {:.2f}\".format(np.mean(rmse_scores), np.std(rmse_scores)))\n",
    "print(\"R^2: {:.3f} ± {:.3f}\".format(np.mean(r2_scores), np.std(r2_scores)))"
   ]
  },
  {
   "cell_type": "code",
   "execution_count": 19,
   "id": "fbe90be4",
   "metadata": {},
   "outputs": [
    {
     "data": {
      "image/png": "[encoded data removed]",
      "text/plain": [
       "<Figure size 1000x500 with 1 Axes>"
      ]
     },
     "metadata": {},
     "output_type": "display_data"
    }
   ],
   "source": [
    "# Creat a plot showing the mae per fold\n",
    "import matplotlib.pyplot as plt\n",
    "plt.figure(figsize=(10, 5))\n",
    "plt.plot(range(1, 6), mae_scores, marker='o', label='MAE per fold')\n",
    "plt.title('Mean Absolute Error per Fold')\n",
    "plt.xlabel('Fold')\n",
    "plt.ylabel('MAE')\n",
    "plt.ylim(bottom=34000, top=38000)\n",
    "plt.show() "
   ]
  },
  {
   "cell_type": "code",
   "execution_count": 35,
   "id": "fdce8a4d",
   "metadata": {},
   "outputs": [
    {
     "name": "stdout",
     "output_type": "stream",
     "text": [
      "Predicted price for the property: €398,815.00\n"
     ]
    }
   ],
   "source": [
    "#Test prediction\n",
    "property = {\n",
    "    'bedrooms': 2,\n",
    "    'building_form': 'house',\n",
    "    'commercial_space': False,\n",
    "    'days_on_market': 0,\n",
    "    'energy_efficient': True,\n",
    "    'energy_label': 'c',\n",
    "    'fixer_upper': False,\n",
    "    'has_balcony': False,\n",
    "    'has_garden': True,\n",
    "    'has_heat_pump': False,\n",
    "    'has_roof_terrace': False,\n",
    "    'has_solar_panels': False,\n",
    "    'latitude': 50.85996627807617,\n",
    "    'living_area': 125,\n",
    "    'longitude': 5.781289577484131,\n",
    "    'national_monument': False,\n",
    "    'object_type': 'house',\n",
    "    'plot_area_m2': 492,\n",
    "    'province': 'Limburg',\n",
    "    'rooms': 4,\n",
    "    'year_built': 1956,\n",
    "    'has_basement': True,\n",
    "    'has_attic': False,\n",
    "    'stories': 2\n",
    "}\n",
    "\n",
    "property_df = pd.DataFrame([property])\n",
    "property_df = pd.get_dummies(property_df, drop_first=True)\n",
    "\n",
    "# Ensure the property_df has the same columns as X\n",
    "missing_cols = set(X.columns) - set(property_df.columns)\n",
    "for col in missing_cols:\n",
    "    property_df[col] = 0\n",
    "property_df = property_df[X.columns]  # Reorder columns to match X\n",
    "predicted_price = rf.predict(property_df)[0]\n",
    "print(f\"Predicted price for the property: €{predicted_price:,.2f}\")"
   ]
  },
  {
   "cell_type": "markdown",
   "id": "8205abf6",
   "metadata": {},
   "source": [
    "## Feature Importance"
   ]
  },
  {
   "cell_type": "markdown",
   "id": "97ede7e9",
   "metadata": {},
   "source": [
    "### SHAP"
   ]
  },
  {
   "cell_type": "code",
   "execution_count": 49,
   "id": "823283db",
   "metadata": {},
   "outputs": [
    {
     "data": {
      "image/png": "[encoded data removed]",
      "text/plain": [
       "<Figure size 800x550 with 1 Axes>"
      ]
     },
     "metadata": {},
     "output_type": "display_data"
    }
   ],
   "source": [
    "import shap\n",
    "import numpy as np\n",
    "\n",
    "subset_idx = np.random.choice(X.index, size=1000, replace=False)\n",
    "X_subset = X.loc[subset_idx]\n",
    "y_subset = y.loc[subset_idx]\n",
    "\n",
    "rf.fit(X_subset, y_subset)\n",
    "\n",
    "explainer = shap.TreeExplainer(rf)\n",
    "shap_values = explainer.shap_values(X_subset)\n",
    "\n",
    "# Get mean absolute SHAP values for each feature\n",
    "mean_abs_shap = np.abs(shap_values).mean(axis=0)\n",
    "top10_idx = np.argsort(mean_abs_shap)[-10:][::-1]\n",
    "top10_features = X_subset.columns[top10_idx]\n",
    "\n",
    "\n",
    "# Plot SHAP Values for the top 10 features\n",
    "shap.summary_plot(shap_values[:, top10_idx], X_subset.iloc[:, top10_idx], plot_type=\"bar\", show=False)\n",
    "plt.xlabel(\"SHAP value\")\n",
    "plt.tight_layout()\n",
    "plt.savefig(\"./plots/rf_shap_10.png\", dpi=300, bbox_inches='tight')\n",
    "plt.show()\n"
   ]
  }
 ],
 "metadata": {
  "kernelspec": {
   "display_name": "Python 3",
   "language": "python",
   "name": "python3"
  },
  "language_info": {
   "codemirror_mode": {
    "name": "ipython",
    "version": 3
   },
   "file_extension": ".py",
   "mimetype": "text/x-python",
   "name": "python",
   "nbconvert_exporter": "python",
   "pygments_lexer": "ipython3",
   "version": "3.9.1"
  }
 },
 "nbformat": 4,
 "nbformat_minor": 5
}
