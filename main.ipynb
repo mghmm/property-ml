{
 "cells": [
  {
   "cell_type": "markdown",
   "id": "d133eb3a",
   "metadata": {},
   "source": [
    "# Property Valuation Models\n",
    "Description"
   ]
  },
  {
   "cell_type": "markdown",
   "id": "d18ebbc0",
   "metadata": {},
   "source": [
    "### Importing data"
   ]
  },
  {
   "cell_type": "code",
   "execution_count": 8,
   "id": "b67bf758",
   "metadata": {},
   "outputs": [
    {
     "name": "stdout",
     "output_type": "stream",
     "text": [
      "Index(['ID', 'Agent Name', 'Agent ID', 'Address', 'City', 'Province',\n",
      "       'Postal Code', 'Municipality', 'Number of Bedrooms', 'Number of Rooms',\n",
      "       'Plot Area', 'Floor Area', 'Object Type', 'Energy Label',\n",
      "       'Construction Type', 'Offering Type', 'Selling Price',\n",
      "       'Selling Price Type', 'Selling Price Condition', 'Zoning',\n",
      "       'Publish Date', 'Status'],\n",
      "      dtype='object')\n",
      "        ID                                Agent Name  Agent ID  \\\n",
      "0  7456346                              MB Makelaars     19352   \n",
      "1  7451836                              MB Makelaars     19352   \n",
      "2  7450179  Vastgoedconsultancy van den Muijsenbergh     19432   \n",
      "3  7446377    ERA Content+  Makelaars met meerwaarde     19325   \n",
      "4  7436708                           EHP Makelaardij     19201   \n",
      "\n",
      "               Address   City       Province Postal Code Municipality  \\\n",
      "0  Teteringsedijk 168A  Breda  Noord-Brabant      4817ML        Breda   \n",
      "1      Diamantstraat 5  Breda  Noord-Brabant      4817HT        Breda   \n",
      "2     Tilburgseweg 213  Breda  Noord-Brabant      4817BC        Breda   \n",
      "3       Weilustlaan 46  Breda  Noord-Brabant      4817TM        Breda   \n",
      "4   Moleneindstraat 57  Breda  Noord-Brabant      4817BM        Breda   \n",
      "\n",
      "   Number of Bedrooms  Number of Rooms  ...  Object Type  Energy Label  \\\n",
      "0                 2.0              3.0  ...        house           A++   \n",
      "1                 3.0              4.0  ...        house             E   \n",
      "2                 3.0              4.0  ...        house           A++   \n",
      "3                 5.0              7.0  ...        house             C   \n",
      "4                 3.0              4.0  ...        house             G   \n",
      "\n",
      "  Construction Type Offering Type Selling Price Selling Price Type  \\\n",
      "0       newly_built           buy      385000.0            regular   \n",
      "1            resale           buy      395000.0            regular   \n",
      "2            resale           buy      525000.0            regular   \n",
      "3            resale           buy      425000.0            regular   \n",
      "4            resale           buy      315000.0            regular   \n",
      "\n",
      "   Selling Price Condition       Zoning                 Publish Date Status  \n",
      "0             kosten_koper  residential  2025-02-14T17:32:27.7170000   sold  \n",
      "1             kosten_koper  residential  2025-02-11T18:03:02.2600000   sold  \n",
      "2             kosten_koper  residential  2025-02-10T20:30:02.4200000   sold  \n",
      "3             kosten_koper  residential  2025-02-06T19:45:02.0500000   sold  \n",
      "4             kosten_koper  residential  2025-01-30T02:15:02.1030000   sold  \n",
      "\n",
      "[5 rows x 22 columns]\n"
     ]
    }
   ],
   "source": [
    "import sqlite3\n",
    "import pandas as pd\n",
    "import numpy as np\n",
    "\n",
    "conn = sqlite3.connect(\"./data/data.db\")\n",
    "df = pd.read_sql_query(f\"SELECT * FROM sales\", conn)\n",
    "conn.close()\n",
    "\n",
    "print(df.columns)\n",
    "print(df.head())\n"
   ]
  },
  {
   "cell_type": "markdown",
   "id": "0fca4ab0",
   "metadata": {},
   "source": [
    "# Linear Regression\n",
    "Simple hedonic linear regression baseline model"
   ]
  },
  {
   "cell_type": "code",
   "execution_count": null,
   "id": "5dafdd3e",
   "metadata": {},
   "outputs": [
    {
     "name": "stdout",
     "output_type": "stream",
     "text": [
      "LinearRegression()\n"
     ]
    }
   ],
   "source": [
    "from sklearn.linear_model import LinearRegression\n",
    "\n",
    "# Create model\n",
    "lr_model = LinearRegression()"
   ]
  },
  {
   "cell_type": "markdown",
   "id": "4bfdc325",
   "metadata": {},
   "source": [
    "# Random Forest\n",
    "Random Forest Model"
   ]
  },
  {
   "cell_type": "code",
   "execution_count": null,
   "id": "5f8f5170",
   "metadata": {},
   "outputs": [],
   "source": [
    "# Create model"
   ]
  }
 ],
 "metadata": {
  "kernelspec": {
   "display_name": "Python 3",
   "language": "python",
   "name": "python3"
  },
  "language_info": {
   "codemirror_mode": {
    "name": "ipython",
    "version": 3
   },
   "file_extension": ".py",
   "mimetype": "text/x-python",
   "name": "python",
   "nbconvert_exporter": "python",
   "pygments_lexer": "ipython3",
   "version": "3.9.1"
  }
 },
 "nbformat": 4,
 "nbformat_minor": 5
}
