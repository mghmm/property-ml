{
 "cells": [
  {
   "cell_type": "markdown",
   "id": "d133eb3a",
   "metadata": {},
   "source": [
    "# Property Valuation Models\n",
    "Description"
   ]
  },
  {
   "cell_type": "markdown",
   "id": "d18ebbc0",
   "metadata": {},
   "source": [
    "### Importing data"
   ]
  },
  {
   "cell_type": "code",
   "execution_count": null,
   "id": "b67bf758",
   "metadata": {},
   "outputs": [],
   "source": [
    "# import data\n",
    "import pandas as pd\n",
    "import numpy as np\n",
    "import matplotlib.pyplot as plt"
   ]
  },
  {
   "cell_type": "markdown",
   "id": "0fca4ab0",
   "metadata": {},
   "source": [
    "# Linear Regression\n",
    "Simple hedonic linear regression baseline model"
   ]
  },
  {
   "cell_type": "code",
   "execution_count": null,
   "id": "5dafdd3e",
   "metadata": {},
   "outputs": [
    {
     "name": "stdout",
     "output_type": "stream",
     "text": [
      "LinearRegression()\n"
     ]
    }
   ],
   "source": [
    "from sklearn.linear_model import LinearRegression\n",
    "\n",
    "# Create model\n",
    "lr_model = LinearRegression()"
   ]
  },
  {
   "cell_type": "markdown",
   "id": "4bfdc325",
   "metadata": {},
   "source": [
    "# Random Forest\n",
    "Random Forest Model"
   ]
  },
  {
   "cell_type": "code",
   "execution_count": null,
   "id": "5f8f5170",
   "metadata": {},
   "outputs": [],
   "source": [
    "# Create model"
   ]
  }
 ],
 "metadata": {
  "kernelspec": {
   "display_name": ".venv",
   "language": "python",
   "name": "python3"
  },
  "language_info": {
   "codemirror_mode": {
    "name": "ipython",
    "version": 3
   },
   "file_extension": ".py",
   "mimetype": "text/x-python",
   "name": "python",
   "nbconvert_exporter": "python",
   "pygments_lexer": "ipython3",
   "version": "3.9.1"
  }
 },
 "nbformat": 4,
 "nbformat_minor": 5
}
